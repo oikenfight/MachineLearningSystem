{
 "cells": [
  {
   "cell_type": "code",
   "execution_count": 1,
   "metadata": {
    "collapsed": true
   },
   "outputs": [],
   "source": [
    "# 3.3.2 テストデータを用いて評価を行う\n",
    "\n",
    "# 既にグループ分けされたデータを使い、これまでのアプローチが正しいか評価\n",
    "# 20newsgroup : 20 個のニュールグループから集められた18,828個の技術系の文書\n",
    "# 各ニュースグループが各文書が属するクラスタ\n",
    "# 20news-18828 をダウンロードする\n",
    "# 全体の　60 % が訓練データ、40 % がテストデータとして各フォルダに分けられている"
   ]
  },
  {
   "cell_type": "code",
   "execution_count": 75,
   "metadata": {
    "collapsed": true
   },
   "outputs": [],
   "source": [
    "# ダウンロードしたデータを読み込む\n",
    "import sklearn.datasets\n",
    "MLCOMP_DIR = \"data\"\n",
    "data = sklearn.datasets.load_mlcomp(\"20news-18828\", mlcomp_root=MLCOMP_DIR)"
   ]
  },
  {
   "cell_type": "code",
   "execution_count": 76,
   "metadata": {},
   "outputs": [
    {
     "name": "stdout",
     "output_type": "stream",
     "text": [
      "[ '/home/jovyan/work/MachineLearningSystem/Chap3/data/379/raw/comp.graphics/1190-38614'\n",
      " '/home/jovyan/work/MachineLearningSystem/Chap3/data/379/raw/comp.graphics/1383-38616'\n",
      " '/home/jovyan/work/MachineLearningSystem/Chap3/data/379/raw/alt.atheism/487-53344'\n",
      " ...,\n",
      " '/home/jovyan/work/MachineLearningSystem/Chap3/data/379/raw/rec.sport.hockey/10215-54303'\n",
      " '/home/jovyan/work/MachineLearningSystem/Chap3/data/379/raw/sci.crypt/10799-15660'\n",
      " '/home/jovyan/work/MachineLearningSystem/Chap3/data/379/raw/comp.os.ms-windows.misc/2732-10871']\n"
     ]
    }
   ],
   "source": [
    "# すべての文書\n",
    "print(data.filenames)"
   ]
  },
  {
   "cell_type": "code",
   "execution_count": 77,
   "metadata": {},
   "outputs": [
    {
     "name": "stdout",
     "output_type": "stream",
     "text": [
      "18828\n"
     ]
    }
   ],
   "source": [
    "# 文書数\n",
    "print(len(data.filenames))"
   ]
  },
  {
   "cell_type": "code",
   "execution_count": 78,
   "metadata": {},
   "outputs": [
    {
     "name": "stdout",
     "output_type": "stream",
     "text": [
      "['alt.atheism', 'comp.graphics', 'comp.os.ms-windows.misc', 'comp.sys.ibm.pc.hardware', 'comp.sys.mac.hardware', 'comp.windows.x', 'misc.forsale', 'rec.autos', 'rec.motorcycles', 'rec.sport.baseball', 'rec.sport.hockey', 'sci.crypt', 'sci.electronics', 'sci.med', 'sci.space', 'soc.religion.christian', 'talk.politics.guns', 'talk.politics.mideast', 'talk.politics.misc', 'talk.religion.misc']\n",
      "20\n"
     ]
    }
   ],
   "source": [
    "#  クラスタのラベル名\n",
    "print(data.target_names)\n",
    "print(len(data.target_names))"
   ]
  },
  {
   "cell_type": "code",
   "execution_count": 79,
   "metadata": {},
   "outputs": [
    {
     "name": "stdout",
     "output_type": "stream",
     "text": [
      "13180\n"
     ]
    }
   ],
   "source": [
    "# 訓練データを読み込む\n",
    "train_data = sklearn.datasets.load_mlcomp(\"20news-18828\", \"train\", mlcomp_root=MLCOMP_DIR)\n",
    "print(len(train_data.filenames))"
   ]
  },
  {
   "cell_type": "code",
   "execution_count": 80,
   "metadata": {},
   "outputs": [
    {
     "name": "stdout",
     "output_type": "stream",
     "text": [
      "5648\n"
     ]
    }
   ],
   "source": [
    "# テストデータを読み込む\n",
    "test_data = sklearn.datasets.load_mlcomp(\"20news-18828\", \"test\", mlcomp_root=MLCOMP_DIR)\n",
    "print(len(test_data.filenames))"
   ]
  },
  {
   "cell_type": "code",
   "execution_count": 81,
   "metadata": {},
   "outputs": [
    {
     "name": "stdout",
     "output_type": "stream",
     "text": [
      "Number of training posts in tech groups: 4119\n"
     ]
    }
   ],
   "source": [
    "# いくつかのニュースグループに限定して取り組む\n",
    "# 実験サイクル短縮\n",
    "\n",
    "groups = [\n",
    "    'comp.graphics',\n",
    "    'comp.os.ms-windows.misc',\n",
    "    'comp.sys.ibm.pc.hardware',\n",
    "    'comp.sys.mac.hardware',\n",
    "    'comp.windows.x',\n",
    "    'sci.space'\n",
    "]\n",
    "\n",
    "train_data = sklearn.datasets.load_mlcomp(\"20news-18828\", \"train\", mlcomp_root=MLCOMP_DIR, categories=groups)\n",
    "\n",
    "print(\"Number of training posts in tech groups:\", len(train_data.filenames))"
   ]
  },
  {
   "cell_type": "code",
   "execution_count": 83,
   "metadata": {},
   "outputs": [
    {
     "name": "stdout",
     "output_type": "stream",
     "text": [
      "#sample: 4119, #features: 4751\n"
     ]
    }
   ],
   "source": [
    "# 3.3.3 文書のクラスタリング\n",
    "\n",
    "from sklearn.feature_extraction.text import TfidfVectorizer\n",
    "import nltk.stem\n",
    "\n",
    "english_stemmer = nltk.stem.SnowballStemmer('english')\n",
    "\n",
    "class StemmedTfidfVectorizer(TfidfVectorizer):\n",
    "    def build_analyzer(self):\n",
    "        analyzer = super(TfidfVectorizer, self).build_analyzer()\n",
    "        return lambda doc: (english_stemmer.stem(w) for w in analyzer(doc))\n",
    "\n",
    "# 不適切な文字が含まれる可能性 => decode_error を無視するよう指定\n",
    "vectorizer = StemmedTfidfVectorizer(min_df=10, max_df=0.5, stop_words='english', decode_error='ignore')\n",
    "vectorized = vectorizer.fit_transform(train_data.data)\n",
    "num_samples, num_features = vectorized.shape\n",
    "print(\"#sample: %d, #features: %d\" % (num_samples, num_features))\n",
    "\n",
    "# 4119 の文書があり、それぞれ4751次元の特徴ベクトルを持っている"
   ]
  },
  {
   "cell_type": "code",
   "execution_count": 84,
   "metadata": {},
   "outputs": [
    {
     "name": "stdout",
     "output_type": "stream",
     "text": [
      "Initialization complete\n",
      "Iteration  0, inertia 6948.909\n",
      "Iteration  1, inertia 3787.899\n",
      "Iteration  2, inertia 3739.232\n",
      "Iteration  3, inertia 3712.735\n",
      "Iteration  4, inertia 3697.757\n",
      "Iteration  5, inertia 3688.425\n",
      "Iteration  6, inertia 3680.770\n",
      "Iteration  7, inertia 3676.300\n",
      "Iteration  8, inertia 3674.009\n",
      "Iteration  9, inertia 3673.179\n",
      "Iteration 10, inertia 3672.659\n",
      "Iteration 11, inertia 3672.277\n",
      "Iteration 12, inertia 3672.143\n",
      "Iteration 13, inertia 3672.090\n",
      "Iteration 14, inertia 3672.028\n",
      "Iteration 15, inertia 3671.972\n",
      "Iteration 16, inertia 3671.871\n",
      "Iteration 17, inertia 3671.837\n",
      "Iteration 18, inertia 3671.802\n",
      "Iteration 19, inertia 3671.773\n",
      "Converged at iteration 19: center shift 0.000000e+00 within tolerance 2.055311e-08\n"
     ]
    },
    {
     "data": {
      "text/plain": [
       "KMeans(algorithm='auto', copy_x=True, init='random', max_iter=300,\n",
       "    n_clusters=50, n_init=1, n_jobs=1, precompute_distances='auto',\n",
       "    random_state=None, tol=0.0001, verbose=1)"
      ]
     },
     "execution_count": 84,
     "metadata": {},
     "output_type": "execute_result"
    }
   ],
   "source": [
    "# クラスタリング実行\n",
    "\n",
    "# クラスタの数を 50 に設定\n",
    "num_clusters = 50\n",
    "from sklearn.cluster import KMeans\n",
    "\n",
    "km = KMeans(n_clusters=num_clusters, init='random', n_init=1, verbose=1)\n",
    "km.fit(vectorized)"
   ]
  },
  {
   "cell_type": "code",
   "execution_count": 85,
   "metadata": {},
   "outputs": [
    {
     "name": "stdout",
     "output_type": "stream",
     "text": [
      "[30 24  1 ..., 36 36 11]\n"
     ]
    }
   ],
   "source": [
    "# それぞれの文書のラベル（どのクラスタに属すか）\n",
    "print(km.labels_)"
   ]
  },
  {
   "cell_type": "code",
   "execution_count": 64,
   "metadata": {},
   "outputs": [
    {
     "name": "stdout",
     "output_type": "stream",
     "text": [
      "(4119,)\n"
     ]
    }
   ],
   "source": [
    "# 大きさ\n",
    "print(km.labels_.shape)"
   ]
  },
  {
   "cell_type": "code",
   "execution_count": 86,
   "metadata": {},
   "outputs": [
    {
     "name": "stdout",
     "output_type": "stream",
     "text": [
      "50\n",
      "[[ 0.00617888  0.          0.         ...,  0.          0.          0.        ]\n",
      " [ 0.          0.          0.00438825 ...,  0.          0.00525286  0.        ]\n",
      " [ 0.00096087  0.          0.         ...,  0.          0.          0.        ]\n",
      " ..., \n",
      " [ 0.00914961  0.          0.00483236 ...,  0.          0.          0.        ]\n",
      " [ 0.          0.00165638  0.001493   ...,  0.          0.          0.        ]\n",
      " [ 0.00181061  0.00898066  0.         ...,  0.          0.          0.        ]]\n"
     ]
    }
   ],
   "source": [
    "# それぞれのクラスタの中心点\n",
    "print(len(km.cluster_centers_))\n",
    "print(km.cluster_centers_)"
   ]
  },
  {
   "cell_type": "code",
   "execution_count": null,
   "metadata": {
    "collapsed": true
   },
   "outputs": [],
   "source": []
  },
  {
   "cell_type": "code",
   "execution_count": 88,
   "metadata": {
    "collapsed": true
   },
   "outputs": [],
   "source": [
    "# 3.4 最初の問題に対する答え\n",
    "\n",
    "# 新たな文書を入力して、適切な分類ができるかどうか\n",
    "new_post = 'Disk drive problems. \\\n",
    "Hi, I have a problem with my hard disk. \\\n",
    "After 1 year it is working only sporadically now. \\\n",
    "I tried to format it, but now it does not boot any more. \\\n",
    "Any ideas ? Thanks.'\n",
    "\n",
    "# 文書をベクトル化\n",
    "new_post_vec = vectorizer.transform([new_post])\n",
    "new_post_label = km.predict(new_post_vec)[0]"
   ]
  },
  {
   "cell_type": "code",
   "execution_count": 89,
   "metadata": {},
   "outputs": [
    {
     "name": "stdout",
     "output_type": "stream",
     "text": [
      "[  21   97  113  184  212  267  268  272  324  333  382  413  423  539  594\n",
      "  707  731  746  848  983 1045 1075 1155 1197 1217 1296 1305 1467 1527 1553\n",
      " 1585 1744 1767 1794 1857 1941 2043 2087 2291 2318 2387 2457 2484 2765 2832\n",
      " 2921 2966 3019 3056 3067 3077 3125 3135 3207 3316 3325 3347 3410 3480 3529\n",
      " 3612 3734 3832 3873 3912 3925 3947]\n"
     ]
    }
   ],
   "source": [
    "# 同じクラスタに所属する文書のインデックスを取得\n",
    "similar_indices = (km.labels_==new_post_label).nonzero()[0]\n",
    "print(similar_indices)"
   ]
  },
  {
   "cell_type": "code",
   "execution_count": 90,
   "metadata": {},
   "outputs": [
    {
     "name": "stdout",
     "output_type": "stream",
     "text": [
      "67\n"
     ]
    }
   ],
   "source": [
    "import scipy as sp\n",
    "\n",
    "similar = []\n",
    "\n",
    "for i in similar_indices:\n",
    "    dist = sp.linalg.norm((new_post_vec - vectorized[i]).toarray())\n",
    "    similar.append((dist, train_data.data[i]))\n",
    "    \n",
    "similar = sorted(similar)\n",
    "print(len(similar))\n",
    "\n",
    "# 51　この文書が同じクラスタに所属していることがわかった"
   ]
  },
  {
   "cell_type": "code",
   "execution_count": 91,
   "metadata": {},
   "outputs": [
    {
     "name": "stdout",
     "output_type": "stream",
     "text": [
      "=== #1 ===\n",
      "(1.0203270212065101, b\"From: rogntorb@idt.unit.no (Torbj|rn Rognes)\\nSubject: Adding int. hard disk drive to IIcx\\n\\nI haven't seen much info about how to add an extra internal disk to a\\nmac. We would like to try it, and I wonder if someone had some good\\nadvice.\\n\\nWe have a Mac IIcx with the original internal Quantum 40MB hard disk,\\nand an unusable floppy drive. We also have a new spare Connor 40MB\\ndisk which we would like to use. The idea is to replace the broken\\nfloppy drive with the new hard disk, but there seems to be some\\nproblems:\\n\\nThe internal SCSI cable and power cable inside the cx has only\\nconnectors for one single hard disk drive.\\n\\nIf I made a ribbon cable and a power cable with three connectors each\\n(1 for motherboard, 1 for each of the 2 disks), would it work?\\n\\nIs the IIcx able to supply the extra power to the extra disk?\\n\\nWhat about terminators? I suppose that i should remove the resistor\\npacks from the disk that is closest to the motherboard, but leave them\\ninstalled in the other disk.\\n\\nThe SCSI ID jumpers should also be changed so that the new disk gets\\nID #1. The old one should have ID #0.\\n\\nIt is no problem for us to remove the floppy drive, as we have an\\nexternal floppy that we can use if it won't boot of the hard disk.\\n\\nThank you!\\n\\n----------------------------------------------------------------------\\nTorbj|rn Rognes                            Email: rogntorb@idt.unit.no\\n\")\n",
      "\n",
      "=== #2 ===\n",
      "(1.2682750038035031, b\"From: s9131783@valiant.vut.EDU.AU (Robert B Harvey)\\nSubject: Disabling the Eject on a Mac SE\\n\\nI'm trying to find a program that will stop the Macs from spitting out\\ntheir Boot Disk. I was told one exists but I can't find it.\\n\\nAnyone know where I can find it?\\n\\nThanks\\n\\nRobert Harvey\\nDuty Programmer\\nInformation Technology\\nVictoria University\\n\\ns9131783@valiant.vut.edu.au\\n\")\n",
      "\n",
      "=== #3 ===\n",
      "(1.4142135623730951, b'From: jyow@desire.wright.edu\\nSubject: How do you use DAT tape backup?\\n\\nI have access to a DEC TLZ06 DEC DAT tape backup.  What do I need to interface\\nmy SE/30 to the tape backup.  The tape backup is a SCSI.  Will Norton Utilities\\nbe sufficient to interface the two?\\n\\n \\n************************************************************************\\nJason Yow\\t\\t\\t\\tHuman Factors Psychology Program\\nWright State University, Dayton, OH\\tE-mail: jyow@desire.wright.edu\\n************************************************************************\\n')\n"
     ]
    }
   ],
   "source": [
    "show_at_1 = similar[0]\n",
    "show_at_2 = similar[int(len(similar)/2)]\n",
    "show_at_3 = similar[-1]\n",
    "\n",
    "print(\"=== #1 ===\")\n",
    "print(show_at_1)\n",
    "print()\n",
    "\n",
    "print(\"=== #2 ===\")\n",
    "print(show_at_2)\n",
    "print()\n",
    "\n",
    "print(\"=== #3 ===\")\n",
    "print(show_at_3)\n",
    "\n",
    "\n",
    "new_post = 'Disk drive problems. \\\n",
    "Hi, I have a problem with my hard disk. \\\n",
    "After 1 year it is working only sporadically now. \\\n",
    "I tried to format it, but now it does not boot any more. \\\n",
    "Any ideas ? Thanks.'\n",
    "\n",
    "# 似たような単語を用いた文書が得られている"
   ]
  },
  {
   "cell_type": "code",
   "execution_count": null,
   "metadata": {
    "collapsed": true
   },
   "outputs": [],
   "source": []
  },
  {
   "cell_type": "code",
   "execution_count": 92,
   "metadata": {},
   "outputs": [
    {
     "name": "stdout",
     "output_type": "stream",
     "text": [
      "[(90, b'Subject: E-mail of Michael Abrash?\\nFrom: gmontem@eis.calstate.edu (George A. Montemayor)\\n\\n', 'comp.graphics'), (93, b'From: passman@world.std.com (Shirley L Passman)\\nSubject: help with no docs for motherboard\\n\\n\\n', 'comp.sys.ibm.pc.hardware')]\n"
     ]
    }
   ],
   "source": [
    "# 3.4.1 ノイズに対する別の見方\n",
    "\n",
    "# 完璧なクラスタリングを期待すべきでない\n",
    "# 正確に言うと、同じnewsグループの文書を同じクラスタに全て正確に所属させることを目指すべきでない\n",
    "\n",
    "post_group = zip(train_data.data, train_data.target)\n",
    "\n",
    "z = [(len(post[0]), post[0], train_data.target_names[post[1]]) for post in post_group]\n",
    "print(sorted(z)[5:7])\n",
    "\n",
    "# 文書を２つ取ってきた（ラベル付き）"
   ]
  },
  {
   "cell_type": "code",
   "execution_count": 36,
   "metadata": {},
   "outputs": [],
   "source": [
    "analyzer = vectorizer.build_analyzer()\n",
    "\n",
    "# 下でprint するのは、前処理をして残った単語\n",
    "# これを人間が見ても正しく分類することはできない"
   ]
  },
  {
   "cell_type": "code",
   "execution_count": 70,
   "metadata": {},
   "outputs": [
    {
     "name": "stdout",
     "output_type": "stream",
     "text": [
      "['bharper', 'cimlinc', 'uucp', 'brett', 'harper', 'subject', 'gui', 'applic', 'framework', 'window', 'hello', 'investig', 'purchas', 'object', 'orient', 'applic', 'framework', 'come', 'look', 'good', 'zapp', 'inmark', 'zinc', 'zinc', 'softwar', 'view', 'liant', 'win', 'blais', 'consider', 'use', 'new', 'window', 'program', 'unix', 'world', 'qualiti', 'intuitiv', 'abstract', 'class', 'librari', 'provid', 'import', 'advers', 'learn', 'intern', 'window', 'program', 'new', 'program', 'methodolog', 'close', 'align', 'nativ', 'don', 'believ', 'arbitrari', 'level', 'abstract', 'just', 'sake', 'chang', 'api', 'valuabl', 'develop', '32bit', 'window', 'nt', 'memori', 'manag', 'issu', 'issu', 'particular', 'window', 'api', 'import', 'probabl', 'buy', 'class', 'librari', 'like', 'tool', 'booch', 'compon', 'ration', 'handl', 'data', 'structur', 'miscellan', 'stuff', 'alloc', 'featur', 'import', 'toolkit', 'narrow', 'zapp', 'zinc', 'toolkit', 'receiv', 'attent', 'media', 'wonder', 'hand', 'experi', 'toolkit', 'especi', 'zapp', 'zinc', 'coupl', 'observ', 'toolkit', 'particular', 'noteworthi', 'zapp', 'extens', 'coverag', 'window', 'function', 'includ', 'miscellan', 'use', 'class', 'new', 'fanci', '3d', 'style', 'control', 'avail', 'support', 'custom', 'control', 'window', 'nt', 'version', 'essenti', 'redirect', 'graphic', 'display', 'output', 'architectur', 'use', 'print', 'sizer', 'class', 'automat', 'manag', 'control', 'layout', 'resiz', 'newcom', 'advantag', 'design', 'better', 'zinc', 'platform', 'independ', 'resourc', 'strategi', 'import', 'right', 'come', 'interfac', 'builder', 'tool', 'window', 'nt', 'version', 'essenti', 'longer', 'matur', 'grew', 'dos', 'version', 'better', 'demo', 'sourc', 'code', 'avail', 'option', 'lack', 'ole', 'support', 'particular', 'support', 'multimedia', 'type', 'stuff', 'thought', 'appreci', 'thank', 'brett', 'harper', 'brett', 'harper', 'cimlinc', 'com']\n"
     ]
    }
   ],
   "source": [
    "print(list(analyzer(z[5][1])))"
   ]
  },
  {
   "cell_type": "code",
   "execution_count": 38,
   "metadata": {},
   "outputs": [
    {
     "name": "stdout",
     "output_type": "stream",
     "text": [
      "['schriejh', 'cnsvax', 'uwec', 'edu', 'subject', 'svga', 'powerbook', '160', 'ok', 'question', 'want', 'hook', 'powerbook', '160', 'svga', 'monitor', 'want', 'buy', 'powerbook', 'dos', 'companion', 'tell', 'exact', 'cabl', 'need', 'connect', 'cabl', 'purchas', 'macwharehous', 'comput', 'store', 'buy', 'cabl', 'jame', 'engin', 'run', 'hold', 'guess', 'question', 'thank', 'advanc', 'repli', 'john', 'schrieber', 'mail', 'schriejh', 'cnsvax', 'uwec', 'edu']\n"
     ]
    }
   ],
   "source": [
    "print(list(analyzer(z[6][1])))"
   ]
  },
  {
   "cell_type": "code",
   "execution_count": 39,
   "metadata": {},
   "outputs": [
    {
     "name": "stdout",
     "output_type": "stream",
     "text": [
      "['filenam', 'esc', 'icon', 'chang', 'f1', 'brown', 'hold', 'repeat', 'sens', 'sure', 'languag', 'articl', 'return', 'box', 'easi', 'select', 'short', 'task', 'key', 'don', 'alt', 'file', 'just', 'click', 'tri', 'sub', 'mean', 'il', 'press', 'english', 'list', 'question', 'program', '1993apr22', 'use', 'group', 'learn', 'org', 'set', 'individu', 'nativ', 'assum', 'doubl', 'avoid', 'write', 'love', 'possibl', 'make', 'applic', 'like', 'system', 'road', 'answer', 'know', 'cut', 'tell', 'manag', 'tab', 'releas', 'oak', 'properti']\n"
     ]
    }
   ],
   "source": [
    "# 下２つの print は、トークン化、小文字に変換、ストップワードを除く処理をして残る単語\n",
    "# また、min_df, max_df により弾かれる単語もある\n",
    "# 生き残る単語はさらに少ない\n",
    "\n",
    "print(list(set(analyzer(z[5][1])).intersection(vectorizer.get_feature_names())))"
   ]
  },
  {
   "cell_type": "code",
   "execution_count": 40,
   "metadata": {},
   "outputs": [
    {
     "name": "stdout",
     "output_type": "stream",
     "text": [
      "['guess', 'cabl', 'hold', 'purchas', 'run', 'store', 'want', 'advanc', '160', 'buy', 'comput', 'engin', 'john', 'svga', 'ok', 'jame', 'repli', 'thank', 'exact', 'powerbook', 'connect', 'question', 'hook', 'monitor', 'dos', 'tell', 'mail', 'need']\n"
     ]
    }
   ],
   "source": [
    "print(list(set(analyzer(z[6][1])).intersection(vectorizer.get_feature_names())))"
   ]
  },
  {
   "cell_type": "code",
   "execution_count": 42,
   "metadata": {},
   "outputs": [
    {
     "name": "stdout",
     "output_type": "stream",
     "text": [
      "IDF(cs)=3.25\n",
      "IDF(faq)=4.14\n",
      "IDF(thank)=2.27\n",
      "IDF(bh)=6.58\n",
      "IDF(thank)=2.27\n"
     ]
    }
   ],
   "source": [
    "# TF-IDF をすることで、情報を持たない単語がでてくる\n",
    "# bh が最もIDF の値が高い\n",
    "# 他の単語には識別性が殆ど無い\n",
    "\n",
    "for term in ['cs', 'faq', 'thank', 'bh', 'thank']:\n",
    "    print('IDF(%s)=%.2f' % (term, vectorizer._tfidf.idf_[vectorizer.vocabulary_[term]]))"
   ]
  },
  {
   "cell_type": "code",
   "execution_count": null,
   "metadata": {
    "collapsed": true
   },
   "outputs": [],
   "source": []
  },
  {
   "cell_type": "code",
   "execution_count": 71,
   "metadata": {
    "collapsed": true
   },
   "outputs": [],
   "source": [
    "# 3.5 パラメータの調整\n",
    "\n",
    "# パラメータの調整をどれだけ行うべきか\n",
    "# 多くの選択肢があり、自由に試すことが可能\n",
    "# しかし、それが良い結果になるとは…そもそも良い結果とは何かを明確にしておく必要がある"
   ]
  },
  {
   "cell_type": "code",
   "execution_count": null,
   "metadata": {
    "collapsed": true
   },
   "outputs": [],
   "source": []
  },
  {
   "cell_type": "code",
   "execution_count": null,
   "metadata": {
    "collapsed": true
   },
   "outputs": [],
   "source": [
    "# 3.6 まとめ\n",
    "\n",
    "# まず前処理\n",
    "# 　　　　ノイズの含まれるテキストデータから、クラスタリングできる簡潔なベクトルの形へ変換\n",
    "# 　　　　多くの苦労がある\n",
    "# テキストの処理\n",
    "#     単語の数をカウントする単純な手法が、ノイズの含まれるデータに対して有効である"
   ]
  }
 ],
 "metadata": {
  "kernelspec": {
   "display_name": "Python 3",
   "language": "python",
   "name": "python3"
  },
  "language_info": {
   "codemirror_mode": {
    "name": "ipython",
    "version": 3
   },
   "file_extension": ".py",
   "mimetype": "text/x-python",
   "name": "python",
   "nbconvert_exporter": "python",
   "pygments_lexer": "ipython3",
   "version": "3.5.2"
  }
 },
 "nbformat": 4,
 "nbformat_minor": 2
}
