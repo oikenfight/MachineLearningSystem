{
 "cells": [
  {
   "cell_type": "markdown",
   "metadata": {},
   "source": [
    "## 8.2 バスケット分析\n",
    "\n",
    "* バスケット分析\n",
    "    * 推薦システムを学習するための分析手法\n",
    "    * どのアイテムが一緒に購入されているかに注目\n",
    "        * 購入したアイテムを気に入ったかなどの情報は無視\n",
    "        * スコアデータより簡単に集めることが可能\n",
    "    * Amazon のレコメンドシステムのイメージ\n",
    "    * ビールとおむつの話\n",
    "\n",
    "---\n",
    "\n",
    "### 8.2.1 役立つ予測を行う\n",
    "\n",
    "* 「この商品を買った人はこんな商品も買っています」は実際のシステムと異なる\n",
    "* もしその通りのシステムだった場合\n",
    "    * よく購入されるアイテムに”騙される”\n",
    "    * 単に人気のあるアイテムを推薦することになる\n",
    "* 例：\n",
    "    * スーパーで 50 % の人がパンを買うとする\n",
    "    * 食器洗剤について一緒に購入されるアイテムを見た場合、パンが一緒に買われている\n",
    "    * しかし、パンは誰もがよく買うアイテムなため、意味はない\n",
    "* 求めたいこと：\n",
    "    * 「ある商品を買った人は、別のある商品を買う傾向が統計的に平均より高い」ということ\n",
    "    \n",
    "---\n",
    "\n",
    "### スーパーの買い物かごを分析する\n",
    "\n",
    "* あるスーパーマーケットのトランザクションデータを匿名で利用\n",
    "* 購入回数と該当する商品の数の表を作成"
   ]
  },
  {
   "cell_type": "code",
   "execution_count": 35,
   "metadata": {},
   "outputs": [
    {
     "ename": "TypeError",
     "evalue": "'dict_items' object is not callable",
     "output_type": "error",
     "traceback": [
      "\u001b[0;31m---------------------------------------------------------------------------\u001b[0m",
      "\u001b[0;31mTypeError\u001b[0m                                 Traceback (most recent call last)",
      "\u001b[0;32m<ipython-input-35-d33db06b2157>\u001b[0m in \u001b[0;36m<module>\u001b[0;34m()\u001b[0m\n\u001b[1;32m      8\u001b[0m \u001b[0;32mfor\u001b[0m \u001b[0melem\u001b[0m \u001b[0;32min\u001b[0m \u001b[0mchain\u001b[0m\u001b[0;34m(\u001b[0m\u001b[0;34m*\u001b[0m\u001b[0mdataset\u001b[0m\u001b[0;34m)\u001b[0m\u001b[0;34m:\u001b[0m\u001b[0;34m\u001b[0m\u001b[0m\n\u001b[1;32m      9\u001b[0m     \u001b[0mcounts\u001b[0m\u001b[0;34m[\u001b[0m\u001b[0melem\u001b[0m\u001b[0;34m]\u001b[0m \u001b[0;34m+=\u001b[0m \u001b[0;36m1\u001b[0m\u001b[0;34m\u001b[0m\u001b[0m\n\u001b[0;32m---> 10\u001b[0;31m \u001b[0mcounts\u001b[0m \u001b[0;34m=\u001b[0m \u001b[0mnp\u001b[0m\u001b[0;34m.\u001b[0m\u001b[0marray\u001b[0m\u001b[0;34m(\u001b[0m\u001b[0mlist\u001b[0m\u001b[0;34m(\u001b[0m\u001b[0mcounts\u001b[0m\u001b[0;34m.\u001b[0m\u001b[0mvalues\u001b[0m\u001b[0;34m(\u001b[0m\u001b[0;34m)\u001b[0m\u001b[0;34m)\u001b[0m\u001b[0;34m)\u001b[0m\u001b[0;34m\u001b[0m\u001b[0m\n\u001b[0m\u001b[1;32m     11\u001b[0m \u001b[0mbins\u001b[0m \u001b[0;34m=\u001b[0m \u001b[0;34m[\u001b[0m\u001b[0;36m1\u001b[0m\u001b[0;34m,\u001b[0m \u001b[0;36m2\u001b[0m\u001b[0;34m,\u001b[0m \u001b[0;36m4\u001b[0m\u001b[0;34m,\u001b[0m \u001b[0;36m8\u001b[0m\u001b[0;34m,\u001b[0m \u001b[0;36m16\u001b[0m\u001b[0;34m,\u001b[0m \u001b[0;36m32\u001b[0m\u001b[0;34m,\u001b[0m \u001b[0;36m64\u001b[0m\u001b[0;34m,\u001b[0m \u001b[0;36m128\u001b[0m\u001b[0;34m,\u001b[0m \u001b[0;36m512\u001b[0m\u001b[0;34m]\u001b[0m\u001b[0;34m\u001b[0m\u001b[0m\n\u001b[1;32m     12\u001b[0m \u001b[0mprint\u001b[0m\u001b[0;34m(\u001b[0m\u001b[0;34m' {0:11} | {1:12}'\u001b[0m\u001b[0;34m.\u001b[0m\u001b[0mformat\u001b[0m\u001b[0;34m(\u001b[0m\u001b[0;34m'Nr of baskets'\u001b[0m\u001b[0;34m,\u001b[0m \u001b[0;34m'Nr of products'\u001b[0m\u001b[0;34m)\u001b[0m\u001b[0;34m)\u001b[0m\u001b[0;34m\u001b[0m\u001b[0m\n",
      "\u001b[0;31mTypeError\u001b[0m: 'dict_items' object is not callable"
     ]
    }
   ],
   "source": [
    "import numpy as np\n",
    "from collections import defaultdict\n",
    "from itertools import chain\n",
    "from gzip import GzipFile\n",
    "dataset = [[int(tok) for tok in line.strip().split()]\n",
    "           for line in GzipFile('./data/retail.dat.gz')]\n",
    "counts = defaultdict(int)\n",
    "for elem in chain(*dataset):\n",
    "    counts[elem] += 1\n",
    "counts = np.array(list(counts.values()))\n",
    "bins = [1, 2, 4, 8, 16, 32, 64, 128, 512]\n",
    "print(' {0:11} | {1:12}'.format('Nr of baskets', 'Nr of products'))\n",
    "print('--------------------------------')\n",
    "for i in range(len(bins)):\n",
    "    bot = bins[i]\n",
    "    top = (bins[i + 1] if (i + 1) < len(bins) else 100000000000)\n",
    "    print('  {0:4} - {1:3}   | {2:12}'.format(\n",
    "        bot, (top if top < 1000 else ''), np.sum((counts >= bot) & (counts < top))))"
   ]
  },
  {
   "cell_type": "markdown",
   "metadata": {},
   "source": [
    "* 数回しか購入されていない商品が多く存在\n",
    "    * 購入回数 4 回以下は全体の 33 %\n",
    "    * それらが売上に占める割合は 1 %\n",
    "    * ロングテール\n",
    "        * 多くの商品は少ししか売れない現象\n",
    "\n",
    "\n",
    "* アプリオリ(Apriori)アルゴリズム\n",
    "    * ある集合（買い物かごの中身）を多数集めたものを入力\n",
    "    * よく起こる組み合わせの集合（多くの買い物で一緒に買われることが多いアイテムの組み合わせ）を返却\n",
    "    "
   ]
  },
  {
   "cell_type": "code",
   "execution_count": 24,
   "metadata": {},
   "outputs": [],
   "source": [
    "def apriori(dataset, minsupport, maxsize):\n",
    "    '''\n",
    "    freqsets, baskets = apriori(dataset, minsupport, maxsize)\n",
    "    Parameters\n",
    "    ----------\n",
    "    dataset : sequence of sequences\n",
    "        input dataset\n",
    "    minsupport : int\n",
    "        Minimal support for frequent items\n",
    "    maxsize : int\n",
    "        Maximal size of frequent items to return\n",
    "    Returns\n",
    "    -------\n",
    "    freqsets : sequence of sequences\n",
    "    baskets : dictionary\n",
    "    '''\n",
    "    from collections import defaultdict\n",
    "\n",
    "    baskets = defaultdict(list)\n",
    "    pointers = defaultdict(list)\n",
    "    for i, ds in enumerate(dataset):\n",
    "        for ell in ds:\n",
    "            pointers[ell].append(i)\n",
    "            baskets[frozenset([ell])].append(i)\n",
    "    pointers = dict([(k, frozenset(v)) for k, v in pointers.items()])\n",
    "    baskets = dict([(k, frozenset(v)) for k, v in baskets.items()])\n",
    "\n",
    "    valid = set(list(el)[0]\n",
    "                for el, c in baskets.items() if (len(c) >= minsupport))\n",
    "    dataset = [[el for el in ds if (el in valid)] for ds in dataset]\n",
    "    dataset = [ds for ds in dataset if len(ds) > 1]\n",
    "    dataset = map(frozenset, dataset)\n",
    "\n",
    "    itemsets = [frozenset([v]) for v in valid]\n",
    "    freqsets = []\n",
    "    for i in range(maxsize - 1):\n",
    "        print(len(itemsets))\n",
    "        newsets = []\n",
    "        for i, ell in enumerate(itemsets):\n",
    "            ccounts = baskets[ell]\n",
    "            for v_, pv in pointers.items():\n",
    "                if v_ not in ell:\n",
    "                    csup = (ccounts & pv)\n",
    "                    if len(csup) >= minsupport:\n",
    "                        new = frozenset(ell | set([v_]))\n",
    "                        if new not in baskets:\n",
    "                            newsets.append(new)\n",
    "                            baskets[new] = csup\n",
    "        freqsets.extend(itemsets)\n",
    "        itemsets = newsets\n",
    "    return freqsets, baskets"
   ]
  },
  {
   "cell_type": "code",
   "execution_count": 25,
   "metadata": {},
   "outputs": [
    {
     "ename": "TypeError",
     "evalue": "first argument must be callable or None",
     "output_type": "error",
     "traceback": [
      "\u001b[0;31m---------------------------------------------------------------------------\u001b[0m",
      "\u001b[0;31mTypeError\u001b[0m                                 Traceback (most recent call last)",
      "\u001b[0;32m<ipython-input-25-7551c12bea08>\u001b[0m in \u001b[0;36m<module>\u001b[0;34m()\u001b[0m\n\u001b[1;32m      2\u001b[0m \u001b[0mmaxsize\u001b[0m \u001b[0;34m=\u001b[0m \u001b[0;36m1000\u001b[0m\u001b[0;34m\u001b[0m\u001b[0m\n\u001b[1;32m      3\u001b[0m \u001b[0;34m\u001b[0m\u001b[0m\n\u001b[0;32m----> 4\u001b[0;31m \u001b[0mfreq\u001b[0m\u001b[0;34m,\u001b[0m \u001b[0mbaskets\u001b[0m \u001b[0;34m=\u001b[0m \u001b[0mapriori\u001b[0m\u001b[0;34m(\u001b[0m\u001b[0mdataset\u001b[0m\u001b[0;34m,\u001b[0m \u001b[0mminsupport\u001b[0m\u001b[0;34m,\u001b[0m \u001b[0mmaxsize\u001b[0m\u001b[0;34m)\u001b[0m\u001b[0;34m\u001b[0m\u001b[0m\n\u001b[0m\u001b[1;32m      5\u001b[0m \u001b[0mprint\u001b[0m\u001b[0;34m(\u001b[0m\u001b[0mfreq\u001b[0m\u001b[0;34m)\u001b[0m\u001b[0;34m\u001b[0m\u001b[0m\n\u001b[1;32m      6\u001b[0m \u001b[0mprint\u001b[0m\u001b[0;34m(\u001b[0m\u001b[0mbaskets\u001b[0m\u001b[0;34m)\u001b[0m\u001b[0;34m\u001b[0m\u001b[0m\n",
      "\u001b[0;32m<ipython-input-24-c24ec45bec4d>\u001b[0m in \u001b[0;36mapriori\u001b[0;34m(dataset, minsupport, maxsize)\u001b[0m\n\u001b[1;32m     17\u001b[0m     \u001b[0;32mfrom\u001b[0m \u001b[0mcollections\u001b[0m \u001b[0;32mimport\u001b[0m \u001b[0mdefaultdict\u001b[0m\u001b[0;34m\u001b[0m\u001b[0m\n\u001b[1;32m     18\u001b[0m \u001b[0;34m\u001b[0m\u001b[0m\n\u001b[0;32m---> 19\u001b[0;31m     \u001b[0mbaskets\u001b[0m \u001b[0;34m=\u001b[0m \u001b[0mdefaultdict\u001b[0m\u001b[0;34m(\u001b[0m\u001b[0mlist\u001b[0m\u001b[0;34m)\u001b[0m\u001b[0;34m\u001b[0m\u001b[0m\n\u001b[0m\u001b[1;32m     20\u001b[0m     \u001b[0mpointers\u001b[0m \u001b[0;34m=\u001b[0m \u001b[0mdefaultdict\u001b[0m\u001b[0;34m(\u001b[0m\u001b[0mlist\u001b[0m\u001b[0;34m)\u001b[0m\u001b[0;34m\u001b[0m\u001b[0m\n\u001b[1;32m     21\u001b[0m     \u001b[0;32mfor\u001b[0m \u001b[0mi\u001b[0m\u001b[0;34m,\u001b[0m \u001b[0mds\u001b[0m \u001b[0;32min\u001b[0m \u001b[0menumerate\u001b[0m\u001b[0;34m(\u001b[0m\u001b[0mdataset\u001b[0m\u001b[0;34m)\u001b[0m\u001b[0;34m:\u001b[0m\u001b[0;34m\u001b[0m\u001b[0m\n",
      "\u001b[0;31mTypeError\u001b[0m: first argument must be callable or None"
     ]
    }
   ],
   "source": [
    "minsupport = 80\n",
    "maxsize = 1000\n",
    "\n",
    "freq, baskets = apriori(dataset, minsupport, maxsize)\n",
    "print(freq)\n",
    "print(baskets)\n",
    "print({0}|{1}).format(freq, baskets)"
   ]
  },
  {
   "cell_type": "code",
   "execution_count": 14,
   "metadata": {},
   "outputs": [
    {
     "ename": "AttributeError",
     "evalue": "'numpy.ndarray' object has no attribute 'items'",
     "output_type": "error",
     "traceback": [
      "\u001b[0;31m---------------------------------------------------------------------------\u001b[0m",
      "\u001b[0;31mAttributeError\u001b[0m                            Traceback (most recent call last)",
      "\u001b[0;32m<ipython-input-14-c8152a5d3699>\u001b[0m in \u001b[0;36m<module>\u001b[0;34m()\u001b[0m\n\u001b[0;32m----> 1\u001b[0;31m \u001b[0mvalid\u001b[0m \u001b[0;34m=\u001b[0m \u001b[0mset\u001b[0m\u001b[0;34m(\u001b[0m\u001b[0mk\u001b[0m \u001b[0;32mfor\u001b[0m \u001b[0mk\u001b[0m\u001b[0;34m,\u001b[0m \u001b[0mv\u001b[0m \u001b[0;32min\u001b[0m \u001b[0mcounts\u001b[0m\u001b[0;34m.\u001b[0m\u001b[0mitems\u001b[0m\u001b[0;34m(\u001b[0m\u001b[0;34m)\u001b[0m \u001b[0;32mif\u001b[0m \u001b[0;34m(\u001b[0m\u001b[0mv\u001b[0m \u001b[0;34m>=\u001b[0m \u001b[0mminsupport\u001b[0m\u001b[0;34m)\u001b[0m\u001b[0;34m)\u001b[0m\u001b[0;34m\u001b[0m\u001b[0m\n\u001b[0m\u001b[1;32m      2\u001b[0m \u001b[0mprint\u001b[0m\u001b[0;34m(\u001b[0m\u001b[0mvalid\u001b[0m\u001b[0;34m)\u001b[0m\u001b[0;34m\u001b[0m\u001b[0m\n",
      "\u001b[0;31mAttributeError\u001b[0m: 'numpy.ndarray' object has no attribute 'items'"
     ]
    }
   ],
   "source": [
    "valid = set(k for k, v in counts.items() if (v >= minsupport))\n",
    "print(valid)"
   ]
  },
  {
   "cell_type": "code",
   "execution_count": 19,
   "metadata": {},
   "outputs": [
    {
     "name": "stdout",
     "output_type": "stream",
     "text": [
      "dict_items([('yamada', 75), ('endou', 82)])\n"
     ]
    }
   ],
   "source": []
  },
  {
   "cell_type": "code",
   "execution_count": null,
   "metadata": {},
   "outputs": [],
   "source": []
  }
 ],
 "metadata": {
  "kernelspec": {
   "display_name": "Python 3",
   "language": "python",
   "name": "python3"
  },
  "language_info": {
   "codemirror_mode": {
    "name": "ipython",
    "version": 3
   },
   "file_extension": ".py",
   "mimetype": "text/x-python",
   "name": "python",
   "nbconvert_exporter": "python",
   "pygments_lexer": "ipython3",
   "version": "3.6.2"
  }
 },
 "nbformat": 4,
 "nbformat_minor": 2
}
